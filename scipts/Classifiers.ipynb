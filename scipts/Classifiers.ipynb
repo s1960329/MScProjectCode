{
 "cells": [
  {
   "cell_type": "markdown",
   "metadata": {},
   "source": [
    "<h1>\n",
    "Classifiers\n",
    "</h1>"
   ]
  },
  {
   "cell_type": "code",
   "execution_count": 1,
   "metadata": {},
   "outputs": [],
   "source": [
    "import numpy as np\n",
    "import pandas as pd\n",
    "import uproot\n",
    "import matplotlib.pyplot as plt\n",
    "import matplotlib.patches as mpatches\n",
    "from hep_ml import reweight\n",
    "from hep_ml.metrics_utils import ks_2samp_weighted\n",
    "from sklearn.model_selection import train_test_split\n",
    "\n",
    "from scipy.stats import chisquare"
   ]
  },
  {
   "cell_type": "code",
   "execution_count": 2,
   "metadata": {},
   "outputs": [
    {
     "name": "stderr",
     "output_type": "stream",
     "text": [
      "2024-07-02 15:36:43.521119: I tensorflow/core/platform/cpu_feature_guard.cc:210] This TensorFlow binary is optimized to use available CPU instructions in performance-critical operations.\n",
      "To enable the following instructions: AVX2 FMA, in other operations, rebuild TensorFlow with the appropriate compiler flags.\n"
     ]
    }
   ],
   "source": [
    "from tensorflow.keras.models import Sequential\n",
    "from tensorflow.keras.layers import Dense\n",
    "from tensorflow.keras.layers import Dropout\n",
    "from tensorflow.keras.layers import Normalization\n",
    "from tensorflow.keras.utils  import normalize\n",
    "from tensorflow.keras.callbacks import EarlyStopping\n",
    "from scikeras.wrappers import KerasClassifier, KerasRegressor\n",
    "from sklearn.model_selection import cross_val_predict\n",
    "from sklearn.model_selection import cross_val_score\n",
    "from sklearn.model_selection import KFold\n",
    "from sklearn.preprocessing import StandardScaler\n",
    "from sklearn.pipeline import Pipeline\n",
    "from sklearn.metrics import precision_score, f1_score, recall_score, confusion_matrix, ConfusionMatrixDisplay"
   ]
  },
  {
   "cell_type": "code",
   "execution_count": 3,
   "metadata": {},
   "outputs": [],
   "source": [
    "TrainingColums = { \"kpi\"  : [\"nTracks\",\"B_P\",\"gamma_PT\",\"Kst_892_0_PT\",\"B_Cone3_B_ptasy\",\"B_ETA\"],\n",
    "                   \"pipi\" : [\"nTracks\",\"B_P\",\"gamma_PT\",\"rho_770_0_PT\",\"B_Cone3_B_ptasy\",\"B_ETA\"]}\n",
    "\n",
    "\n",
    "sharedColums = [\"nTracks\",\"B_P\",\"gamma_PT\",\"B_Cone3_B_ptasy\", \n",
    "                \"B_ETA\", \"B_MINIPCHI2\",\"B_SmallestDeltaChi2OneTrack\",\n",
    "                \"B_FD_OWNPV\",\"piminus_PT\", \"piminus_IP_OWNPV\"]\n",
    "\n",
    "\n",
    "columns    = {\"kpi\"  : sharedColums + [\"Kst_892_0_PT\",\"Kst_892_0_IP_OWNPV\",\"Kplus_PT\", \"Kplus_IP_OWNPV\" ],\n",
    "              \"pipi\" : sharedColums + [\"rho_770_0_PT\",\"rho_770_0_IP_OWNPV\",\"piplus_PT\",\"piplus_IP_OWNPV\"]}\n",
    "\n",
    "\n",
    "modes      = [\"kpi\",\"kpisw\", \"pipi\"]\n",
    "hist_style = {\"bins\" : 50, \"density\" : True, \"alpha\" : 1, \"histtype\" : \"step\"}\n",
    "colors     = {\"blue\" : \"#066bd6\", \"red\" : \"#d60645\",  \"pink\" : \"#2fad66\", \"green\":\"#2fad66\",\"black\":\"#000000\"}\n",
    "path       = \"/Users/finnjohnonori/Documents/GitHubRepositories/MScProject/\"\n",
    "dataframes = {}\n"
   ]
  },
  {
   "cell_type": "code",
   "execution_count": 4,
   "metadata": {},
   "outputs": [
    {
     "name": "stderr",
     "output_type": "stream",
     "text": [
      "/usr/local/lib/python3.12/site-packages/pandas/core/arraylike.py:399: RuntimeWarning: invalid value encountered in log10\n",
      "  result = getattr(ufunc, method)(*inputs, **kwargs)\n",
      "/usr/local/lib/python3.12/site-packages/pandas/core/arraylike.py:399: RuntimeWarning: invalid value encountered in log10\n",
      "  result = getattr(ufunc, method)(*inputs, **kwargs)\n"
     ]
    }
   ],
   "source": [
    "#Imports the Sample Data - Target\n",
    "with uproot.open(path + \"data/Sample_Kpigamma_2018_selectedTree_with_sWeights_Analysis_2hg_Unbinned-Mask1.root\") as Kpi_TChain_SM: # type: ignore\n",
    "    Kpi_TTree_SM    = Kpi_TChain_SM[\"DecayTree\"]\n",
    "\n",
    "dataframes[\"kpisw\"] = Kpi_TTree_SM.arrays(columns[\"kpi\"] + [\"NB0_Kpigamma_sw\"], library=\"pd\", cut = \"(abs(B_M01-895.55)<100)\", aliases ={\"B_ETA\": \"-log(tan(atan(B_PT/B_PZ)/2))\"}) # type: ignore\n",
    "dataframes[\"kpisw\"] = dataframes[\"kpisw\"].reset_index(drop=True)\n",
    "dataframes[\"kpisw\"][\"min(piminus_IP_OWNPV,Kplus_IP_OWNPV)\" ] = [ min(kitem, piitem) for (kitem,  piitem) in zip(list(dataframes[\"kpisw\"][\"Kplus_IP_OWNPV\" ]),list(dataframes[\"kpisw\"][\"piminus_IP_OWNPV\"])) ]\n",
    "\n",
    "for var in columns[\"kpi\"]:\n",
    "    dataframes[\"kpisw\"][f\"log({var})\"] = np.log10(dataframes[\"kpisw\"][var])\n"
   ]
  },
  {
   "cell_type": "code",
   "execution_count": 5,
   "metadata": {},
   "outputs": [],
   "source": [
    "dataframes[\"pipi\"] = pd.read_csv(\"../data/pipiReweight.csv\", index_col=0)\n",
    "dataframes[\"kpi\" ] = pd.read_csv(\"../data/kpiReweight.csv\",  index_col=0)\n",
    "\n",
    "dataframes[\"kpisw\"][\"isMonteCarlo\"] = np.zeros( len(dataframes[\"kpisw\"]) )\n",
    "dataframes[\"kpi\"  ][\"isMonteCarlo\"] = np.ones(  len(dataframes[\"kpi\"  ]) )\n",
    "dataframes[\"pipi\" ][\"isMonteCarlo\"] = np.ones(  len(dataframes[\"pipi\" ]) )\n",
    "\n",
    "dataframes[\"pipi\" ] = dataframes[\"pipi\" ][TrainingColums[\"pipi\" ] + [\"GBReweight\", \"isMonteCarlo\"]]\n",
    "dataframes[\"kpi\"  ] = dataframes[\"kpi\"  ][TrainingColums[\"kpi\"  ] + [\"GBReweight\",\"isMonteCarlo\"]]\n",
    "dataframes[\"kpisw\"] = dataframes[\"kpisw\"][TrainingColums[\"kpi\"  ] + [\"NB0_Kpigamma_sw\",\"isMonteCarlo\"]]\n",
    "\n",
    "dataframes[\"kpisw\"] = dataframes[\"kpisw\"].rename({\"NB0_Kpigamma_sw\" : \"weight\",\t\"Kst_892_0_PT\": \"daughter_0_PT\"},  axis=\"columns\")\n",
    "dataframes[\"kpi\"  ] = dataframes[\"kpi\"  ].rename({\"GBReweight\"      : \"weight\",\t\"Kst_892_0_PT\": \"daughter_0_PT\"},  axis=\"columns\")\n",
    "dataframes[\"pipi\" ] = dataframes[\"pipi\" ].rename({\"GBReweight\"      : \"weight\",\t\"rho_770_0_PT\": \"daughter_0_PT\"},  axis=\"columns\")\n",
    "\n",
    "\n",
    "minLength = min( len(dataframes[\"kpisw\"] ), len(dataframes[\"kpi\"]) )\n",
    "\n",
    "dataframes[\"kpisw\"] = dataframes[\"kpisw\"].sample(n=minLength)\n",
    "dataframes[\"kpi\"  ] = dataframes[\"kpi\"  ].sample(n=minLength)"
   ]
  },
  {
   "cell_type": "code",
   "execution_count": 6,
   "metadata": {},
   "outputs": [
    {
     "data": {
      "text/html": [
       "<div>\n",
       "<style scoped>\n",
       "    .dataframe tbody tr th:only-of-type {\n",
       "        vertical-align: middle;\n",
       "    }\n",
       "\n",
       "    .dataframe tbody tr th {\n",
       "        vertical-align: top;\n",
       "    }\n",
       "\n",
       "    .dataframe thead th {\n",
       "        text-align: right;\n",
       "    }\n",
       "</style>\n",
       "<table border=\"1\" class=\"dataframe\">\n",
       "  <thead>\n",
       "    <tr style=\"text-align: right;\">\n",
       "      <th></th>\n",
       "      <th>nTracks</th>\n",
       "      <th>B_P</th>\n",
       "      <th>gamma_PT</th>\n",
       "      <th>daughter_0_PT</th>\n",
       "      <th>B_Cone3_B_ptasy</th>\n",
       "      <th>B_ETA</th>\n",
       "      <th>weight</th>\n",
       "      <th>isMonteCarlo</th>\n",
       "    </tr>\n",
       "  </thead>\n",
       "  <tbody>\n",
       "    <tr>\n",
       "      <th>125951</th>\n",
       "      <td>63</td>\n",
       "      <td>174668.296243</td>\n",
       "      <td>10495.000575</td>\n",
       "      <td>3116.978489</td>\n",
       "      <td>0.383340</td>\n",
       "      <td>3.246190</td>\n",
       "      <td>0.531142</td>\n",
       "      <td>1.0</td>\n",
       "    </tr>\n",
       "    <tr>\n",
       "      <th>104103</th>\n",
       "      <td>203</td>\n",
       "      <td>149667.408576</td>\n",
       "      <td>3096.039201</td>\n",
       "      <td>3651.363260</td>\n",
       "      <td>-0.265767</td>\n",
       "      <td>4.009145</td>\n",
       "      <td>1.133380</td>\n",
       "      <td>1.0</td>\n",
       "    </tr>\n",
       "    <tr>\n",
       "      <th>147889</th>\n",
       "      <td>106</td>\n",
       "      <td>133828.688673</td>\n",
       "      <td>9913.955183</td>\n",
       "      <td>6829.023418</td>\n",
       "      <td>0.334572</td>\n",
       "      <td>2.799140</td>\n",
       "      <td>0.611917</td>\n",
       "      <td>1.0</td>\n",
       "    </tr>\n",
       "    <tr>\n",
       "      <th>37261</th>\n",
       "      <td>123</td>\n",
       "      <td>230321.291823</td>\n",
       "      <td>5554.032265</td>\n",
       "      <td>4932.805959</td>\n",
       "      <td>0.314963</td>\n",
       "      <td>3.794181</td>\n",
       "      <td>0.896940</td>\n",
       "      <td>1.0</td>\n",
       "    </tr>\n",
       "    <tr>\n",
       "      <th>36768</th>\n",
       "      <td>150</td>\n",
       "      <td>181416.451295</td>\n",
       "      <td>3935.491339</td>\n",
       "      <td>5096.507917</td>\n",
       "      <td>0.316576</td>\n",
       "      <td>3.707676</td>\n",
       "      <td>2.412273</td>\n",
       "      <td>1.0</td>\n",
       "    </tr>\n",
       "    <tr>\n",
       "      <th>...</th>\n",
       "      <td>...</td>\n",
       "      <td>...</td>\n",
       "      <td>...</td>\n",
       "      <td>...</td>\n",
       "      <td>...</td>\n",
       "      <td>...</td>\n",
       "      <td>...</td>\n",
       "      <td>...</td>\n",
       "    </tr>\n",
       "    <tr>\n",
       "      <th>102727</th>\n",
       "      <td>182</td>\n",
       "      <td>171589.124583</td>\n",
       "      <td>4893.604771</td>\n",
       "      <td>3240.048048</td>\n",
       "      <td>0.130057</td>\n",
       "      <td>3.808226</td>\n",
       "      <td>3.827873</td>\n",
       "      <td>1.0</td>\n",
       "    </tr>\n",
       "    <tr>\n",
       "      <th>27613</th>\n",
       "      <td>133</td>\n",
       "      <td>63927.327167</td>\n",
       "      <td>3677.090694</td>\n",
       "      <td>2730.359177</td>\n",
       "      <td>-0.422970</td>\n",
       "      <td>3.331824</td>\n",
       "      <td>0.675174</td>\n",
       "      <td>1.0</td>\n",
       "    </tr>\n",
       "    <tr>\n",
       "      <th>98908</th>\n",
       "      <td>69</td>\n",
       "      <td>253961.412525</td>\n",
       "      <td>5975.110293</td>\n",
       "      <td>3812.459192</td>\n",
       "      <td>0.354113</td>\n",
       "      <td>4.102665</td>\n",
       "      <td>0.386740</td>\n",
       "      <td>1.0</td>\n",
       "    </tr>\n",
       "    <tr>\n",
       "      <th>194967</th>\n",
       "      <td>168</td>\n",
       "      <td>224005.265146</td>\n",
       "      <td>9661.398834</td>\n",
       "      <td>4679.794687</td>\n",
       "      <td>0.309625</td>\n",
       "      <td>3.466698</td>\n",
       "      <td>1.833934</td>\n",
       "      <td>1.0</td>\n",
       "    </tr>\n",
       "    <tr>\n",
       "      <th>7065</th>\n",
       "      <td>72</td>\n",
       "      <td>81088.302035</td>\n",
       "      <td>4777.320620</td>\n",
       "      <td>11403.740735</td>\n",
       "      <td>0.602314</td>\n",
       "      <td>2.310555</td>\n",
       "      <td>0.673201</td>\n",
       "      <td>1.0</td>\n",
       "    </tr>\n",
       "  </tbody>\n",
       "</table>\n",
       "<p>147836 rows × 8 columns</p>\n",
       "</div>"
      ],
      "text/plain": [
       "        nTracks            B_P      gamma_PT  daughter_0_PT  B_Cone3_B_ptasy  \\\n",
       "125951       63  174668.296243  10495.000575    3116.978489         0.383340   \n",
       "104103      203  149667.408576   3096.039201    3651.363260        -0.265767   \n",
       "147889      106  133828.688673   9913.955183    6829.023418         0.334572   \n",
       "37261       123  230321.291823   5554.032265    4932.805959         0.314963   \n",
       "36768       150  181416.451295   3935.491339    5096.507917         0.316576   \n",
       "...         ...            ...           ...            ...              ...   \n",
       "102727      182  171589.124583   4893.604771    3240.048048         0.130057   \n",
       "27613       133   63927.327167   3677.090694    2730.359177        -0.422970   \n",
       "98908        69  253961.412525   5975.110293    3812.459192         0.354113   \n",
       "194967      168  224005.265146   9661.398834    4679.794687         0.309625   \n",
       "7065         72   81088.302035   4777.320620   11403.740735         0.602314   \n",
       "\n",
       "           B_ETA    weight  isMonteCarlo  \n",
       "125951  3.246190  0.531142           1.0  \n",
       "104103  4.009145  1.133380           1.0  \n",
       "147889  2.799140  0.611917           1.0  \n",
       "37261   3.794181  0.896940           1.0  \n",
       "36768   3.707676  2.412273           1.0  \n",
       "...          ...       ...           ...  \n",
       "102727  3.808226  3.827873           1.0  \n",
       "27613   3.331824  0.675174           1.0  \n",
       "98908   4.102665  0.386740           1.0  \n",
       "194967  3.466698  1.833934           1.0  \n",
       "7065    2.310555  0.673201           1.0  \n",
       "\n",
       "[147836 rows x 8 columns]"
      ]
     },
     "execution_count": 6,
     "metadata": {},
     "output_type": "execute_result"
    }
   ],
   "source": [
    "dataframes[\"kpi\"]"
   ]
  },
  {
   "cell_type": "code",
   "execution_count": 7,
   "metadata": {},
   "outputs": [
    {
     "data": {
      "text/html": [
       "<div>\n",
       "<style scoped>\n",
       "    .dataframe tbody tr th:only-of-type {\n",
       "        vertical-align: middle;\n",
       "    }\n",
       "\n",
       "    .dataframe tbody tr th {\n",
       "        vertical-align: top;\n",
       "    }\n",
       "\n",
       "    .dataframe thead th {\n",
       "        text-align: right;\n",
       "    }\n",
       "</style>\n",
       "<table border=\"1\" class=\"dataframe\">\n",
       "  <thead>\n",
       "    <tr style=\"text-align: right;\">\n",
       "      <th></th>\n",
       "      <th>nTracks</th>\n",
       "      <th>B_P</th>\n",
       "      <th>gamma_PT</th>\n",
       "      <th>daughter_0_PT</th>\n",
       "      <th>B_Cone3_B_ptasy</th>\n",
       "      <th>B_ETA</th>\n",
       "      <th>weight</th>\n",
       "      <th>isMonteCarlo</th>\n",
       "    </tr>\n",
       "  </thead>\n",
       "  <tbody>\n",
       "    <tr>\n",
       "      <th>106573</th>\n",
       "      <td>158</td>\n",
       "      <td>86328.824388</td>\n",
       "      <td>10559.553454</td>\n",
       "      <td>2518.912122</td>\n",
       "      <td>0.538680</td>\n",
       "      <td>2.648994</td>\n",
       "      <td>1.289978</td>\n",
       "      <td>0.0</td>\n",
       "    </tr>\n",
       "    <tr>\n",
       "      <th>96511</th>\n",
       "      <td>250</td>\n",
       "      <td>63976.261066</td>\n",
       "      <td>3311.785894</td>\n",
       "      <td>2145.496461</td>\n",
       "      <td>-0.683092</td>\n",
       "      <td>3.849283</td>\n",
       "      <td>0.041839</td>\n",
       "      <td>0.0</td>\n",
       "    </tr>\n",
       "    <tr>\n",
       "      <th>99510</th>\n",
       "      <td>137</td>\n",
       "      <td>101261.757684</td>\n",
       "      <td>3589.513300</td>\n",
       "      <td>5358.417758</td>\n",
       "      <td>-0.279005</td>\n",
       "      <td>3.307530</td>\n",
       "      <td>-0.397238</td>\n",
       "      <td>0.0</td>\n",
       "    </tr>\n",
       "    <tr>\n",
       "      <th>64960</th>\n",
       "      <td>73</td>\n",
       "      <td>136686.029854</td>\n",
       "      <td>4260.959955</td>\n",
       "      <td>5355.915227</td>\n",
       "      <td>0.288504</td>\n",
       "      <td>3.462439</td>\n",
       "      <td>-0.184643</td>\n",
       "      <td>0.0</td>\n",
       "    </tr>\n",
       "    <tr>\n",
       "      <th>31431</th>\n",
       "      <td>259</td>\n",
       "      <td>152557.478448</td>\n",
       "      <td>3139.828700</td>\n",
       "      <td>2072.212528</td>\n",
       "      <td>-0.305841</td>\n",
       "      <td>4.070928</td>\n",
       "      <td>1.344838</td>\n",
       "      <td>0.0</td>\n",
       "    </tr>\n",
       "    <tr>\n",
       "      <th>...</th>\n",
       "      <td>...</td>\n",
       "      <td>...</td>\n",
       "      <td>...</td>\n",
       "      <td>...</td>\n",
       "      <td>...</td>\n",
       "      <td>...</td>\n",
       "      <td>...</td>\n",
       "      <td>...</td>\n",
       "    </tr>\n",
       "    <tr>\n",
       "      <th>143581</th>\n",
       "      <td>59</td>\n",
       "      <td>81906.966412</td>\n",
       "      <td>3430.531732</td>\n",
       "      <td>2491.787326</td>\n",
       "      <td>-0.277096</td>\n",
       "      <td>4.144597</td>\n",
       "      <td>-0.396763</td>\n",
       "      <td>0.0</td>\n",
       "    </tr>\n",
       "    <tr>\n",
       "      <th>136253</th>\n",
       "      <td>194</td>\n",
       "      <td>102139.743443</td>\n",
       "      <td>5106.295128</td>\n",
       "      <td>7028.166576</td>\n",
       "      <td>-0.149422</td>\n",
       "      <td>2.881400</td>\n",
       "      <td>1.334428</td>\n",
       "      <td>0.0</td>\n",
       "    </tr>\n",
       "    <tr>\n",
       "      <th>105862</th>\n",
       "      <td>138</td>\n",
       "      <td>79279.410773</td>\n",
       "      <td>3640.477406</td>\n",
       "      <td>6308.942952</td>\n",
       "      <td>0.385204</td>\n",
       "      <td>2.890057</td>\n",
       "      <td>0.404395</td>\n",
       "      <td>0.0</td>\n",
       "    </tr>\n",
       "    <tr>\n",
       "      <th>102950</th>\n",
       "      <td>121</td>\n",
       "      <td>87830.162760</td>\n",
       "      <td>3535.899319</td>\n",
       "      <td>4069.858879</td>\n",
       "      <td>-0.395443</td>\n",
       "      <td>3.261944</td>\n",
       "      <td>-0.164836</td>\n",
       "      <td>0.0</td>\n",
       "    </tr>\n",
       "    <tr>\n",
       "      <th>68590</th>\n",
       "      <td>132</td>\n",
       "      <td>67984.443484</td>\n",
       "      <td>4205.592812</td>\n",
       "      <td>3526.617883</td>\n",
       "      <td>-0.120661</td>\n",
       "      <td>3.053439</td>\n",
       "      <td>0.350080</td>\n",
       "      <td>0.0</td>\n",
       "    </tr>\n",
       "  </tbody>\n",
       "</table>\n",
       "<p>147836 rows × 8 columns</p>\n",
       "</div>"
      ],
      "text/plain": [
       "        nTracks            B_P      gamma_PT  daughter_0_PT  B_Cone3_B_ptasy  \\\n",
       "106573      158   86328.824388  10559.553454    2518.912122         0.538680   \n",
       "96511       250   63976.261066   3311.785894    2145.496461        -0.683092   \n",
       "99510       137  101261.757684   3589.513300    5358.417758        -0.279005   \n",
       "64960        73  136686.029854   4260.959955    5355.915227         0.288504   \n",
       "31431       259  152557.478448   3139.828700    2072.212528        -0.305841   \n",
       "...         ...            ...           ...            ...              ...   \n",
       "143581       59   81906.966412   3430.531732    2491.787326        -0.277096   \n",
       "136253      194  102139.743443   5106.295128    7028.166576        -0.149422   \n",
       "105862      138   79279.410773   3640.477406    6308.942952         0.385204   \n",
       "102950      121   87830.162760   3535.899319    4069.858879        -0.395443   \n",
       "68590       132   67984.443484   4205.592812    3526.617883        -0.120661   \n",
       "\n",
       "           B_ETA    weight  isMonteCarlo  \n",
       "106573  2.648994  1.289978           0.0  \n",
       "96511   3.849283  0.041839           0.0  \n",
       "99510   3.307530 -0.397238           0.0  \n",
       "64960   3.462439 -0.184643           0.0  \n",
       "31431   4.070928  1.344838           0.0  \n",
       "...          ...       ...           ...  \n",
       "143581  4.144597 -0.396763           0.0  \n",
       "136253  2.881400  1.334428           0.0  \n",
       "105862  2.890057  0.404395           0.0  \n",
       "102950  3.261944 -0.164836           0.0  \n",
       "68590   3.053439  0.350080           0.0  \n",
       "\n",
       "[147836 rows x 8 columns]"
      ]
     },
     "execution_count": 7,
     "metadata": {},
     "output_type": "execute_result"
    }
   ],
   "source": [
    "dataframes[\"kpisw\"]"
   ]
  },
  {
   "cell_type": "code",
   "execution_count": 8,
   "metadata": {},
   "outputs": [],
   "source": [
    "FullDataTrainingCols = [\"nTracks\", \"B_P\", \"gamma_PT\", \"daughter_0_PT\", \"B_Cone3_B_ptasy\", \"B_ETA\"]"
   ]
  },
  {
   "cell_type": "code",
   "execution_count": 9,
   "metadata": {},
   "outputs": [],
   "source": [
    "FullData     = pd.concat((dataframes[\"kpi\"],dataframes[\"kpisw\"]))\n",
    "FullDataNorm = FullData.sample(frac=1)\n"
   ]
  },
  {
   "cell_type": "code",
   "execution_count": 10,
   "metadata": {},
   "outputs": [
    {
     "data": {
      "text/html": [
       "<div>\n",
       "<style scoped>\n",
       "    .dataframe tbody tr th:only-of-type {\n",
       "        vertical-align: middle;\n",
       "    }\n",
       "\n",
       "    .dataframe tbody tr th {\n",
       "        vertical-align: top;\n",
       "    }\n",
       "\n",
       "    .dataframe thead th {\n",
       "        text-align: right;\n",
       "    }\n",
       "</style>\n",
       "<table border=\"1\" class=\"dataframe\">\n",
       "  <thead>\n",
       "    <tr style=\"text-align: right;\">\n",
       "      <th></th>\n",
       "      <th>nTracks</th>\n",
       "      <th>B_P</th>\n",
       "      <th>gamma_PT</th>\n",
       "      <th>daughter_0_PT</th>\n",
       "      <th>B_Cone3_B_ptasy</th>\n",
       "      <th>B_ETA</th>\n",
       "      <th>weight</th>\n",
       "      <th>isMonteCarlo</th>\n",
       "    </tr>\n",
       "  </thead>\n",
       "  <tbody>\n",
       "    <tr>\n",
       "      <th>89125</th>\n",
       "      <td>0.220070</td>\n",
       "      <td>0.107385</td>\n",
       "      <td>0.034137</td>\n",
       "      <td>0.079406</td>\n",
       "      <td>0.430292</td>\n",
       "      <td>0.404626</td>\n",
       "      <td>0.544773</td>\n",
       "      <td>1.0</td>\n",
       "    </tr>\n",
       "    <tr>\n",
       "      <th>63162</th>\n",
       "      <td>0.176056</td>\n",
       "      <td>0.040900</td>\n",
       "      <td>0.139277</td>\n",
       "      <td>0.010944</td>\n",
       "      <td>0.400220</td>\n",
       "      <td>0.133957</td>\n",
       "      <td>0.078531</td>\n",
       "      <td>0.0</td>\n",
       "    </tr>\n",
       "    <tr>\n",
       "      <th>41002</th>\n",
       "      <td>0.177817</td>\n",
       "      <td>0.088534</td>\n",
       "      <td>0.045537</td>\n",
       "      <td>0.246566</td>\n",
       "      <td>0.821544</td>\n",
       "      <td>0.186985</td>\n",
       "      <td>1.534588</td>\n",
       "      <td>1.0</td>\n",
       "    </tr>\n",
       "    <tr>\n",
       "      <th>150652</th>\n",
       "      <td>0.116197</td>\n",
       "      <td>0.079745</td>\n",
       "      <td>0.073161</td>\n",
       "      <td>0.013724</td>\n",
       "      <td>0.692610</td>\n",
       "      <td>0.332974</td>\n",
       "      <td>1.008868</td>\n",
       "      <td>1.0</td>\n",
       "    </tr>\n",
       "    <tr>\n",
       "      <th>23471</th>\n",
       "      <td>0.107394</td>\n",
       "      <td>0.069995</td>\n",
       "      <td>0.024658</td>\n",
       "      <td>0.042692</td>\n",
       "      <td>0.394245</td>\n",
       "      <td>0.400064</td>\n",
       "      <td>0.427803</td>\n",
       "      <td>1.0</td>\n",
       "    </tr>\n",
       "    <tr>\n",
       "      <th>...</th>\n",
       "      <td>...</td>\n",
       "      <td>...</td>\n",
       "      <td>...</td>\n",
       "      <td>...</td>\n",
       "      <td>...</td>\n",
       "      <td>...</td>\n",
       "      <td>...</td>\n",
       "      <td>...</td>\n",
       "    </tr>\n",
       "    <tr>\n",
       "      <th>137185</th>\n",
       "      <td>0.161972</td>\n",
       "      <td>0.140098</td>\n",
       "      <td>0.066616</td>\n",
       "      <td>0.087971</td>\n",
       "      <td>0.666721</td>\n",
       "      <td>0.380045</td>\n",
       "      <td>0.724103</td>\n",
       "      <td>1.0</td>\n",
       "    </tr>\n",
       "    <tr>\n",
       "      <th>66028</th>\n",
       "      <td>0.086268</td>\n",
       "      <td>0.099657</td>\n",
       "      <td>0.004226</td>\n",
       "      <td>0.013015</td>\n",
       "      <td>0.416358</td>\n",
       "      <td>0.623413</td>\n",
       "      <td>0.041845</td>\n",
       "      <td>0.0</td>\n",
       "    </tr>\n",
       "    <tr>\n",
       "      <th>36994</th>\n",
       "      <td>0.179577</td>\n",
       "      <td>0.029040</td>\n",
       "      <td>0.056745</td>\n",
       "      <td>0.001135</td>\n",
       "      <td>0.641722</td>\n",
       "      <td>0.237638</td>\n",
       "      <td>1.966966</td>\n",
       "      <td>1.0</td>\n",
       "    </tr>\n",
       "    <tr>\n",
       "      <th>6470</th>\n",
       "      <td>0.204225</td>\n",
       "      <td>0.105007</td>\n",
       "      <td>0.014859</td>\n",
       "      <td>0.018092</td>\n",
       "      <td>0.554022</td>\n",
       "      <td>0.462129</td>\n",
       "      <td>1.567730</td>\n",
       "      <td>1.0</td>\n",
       "    </tr>\n",
       "    <tr>\n",
       "      <th>197024</th>\n",
       "      <td>0.091549</td>\n",
       "      <td>0.111972</td>\n",
       "      <td>0.050457</td>\n",
       "      <td>0.111082</td>\n",
       "      <td>0.683653</td>\n",
       "      <td>0.343655</td>\n",
       "      <td>0.518702</td>\n",
       "      <td>1.0</td>\n",
       "    </tr>\n",
       "  </tbody>\n",
       "</table>\n",
       "<p>295672 rows × 8 columns</p>\n",
       "</div>"
      ],
      "text/plain": [
       "         nTracks       B_P  gamma_PT  daughter_0_PT  B_Cone3_B_ptasy  \\\n",
       "89125   0.220070  0.107385  0.034137       0.079406         0.430292   \n",
       "63162   0.176056  0.040900  0.139277       0.010944         0.400220   \n",
       "41002   0.177817  0.088534  0.045537       0.246566         0.821544   \n",
       "150652  0.116197  0.079745  0.073161       0.013724         0.692610   \n",
       "23471   0.107394  0.069995  0.024658       0.042692         0.394245   \n",
       "...          ...       ...       ...            ...              ...   \n",
       "137185  0.161972  0.140098  0.066616       0.087971         0.666721   \n",
       "66028   0.086268  0.099657  0.004226       0.013015         0.416358   \n",
       "36994   0.179577  0.029040  0.056745       0.001135         0.641722   \n",
       "6470    0.204225  0.105007  0.014859       0.018092         0.554022   \n",
       "197024  0.091549  0.111972  0.050457       0.111082         0.683653   \n",
       "\n",
       "           B_ETA    weight  isMonteCarlo  \n",
       "89125   0.404626  0.544773           1.0  \n",
       "63162   0.133957  0.078531           0.0  \n",
       "41002   0.186985  1.534588           1.0  \n",
       "150652  0.332974  1.008868           1.0  \n",
       "23471   0.400064  0.427803           1.0  \n",
       "...          ...       ...           ...  \n",
       "137185  0.380045  0.724103           1.0  \n",
       "66028   0.623413  0.041845           0.0  \n",
       "36994   0.237638  1.966966           1.0  \n",
       "6470    0.462129  1.567730           1.0  \n",
       "197024  0.343655  0.518702           1.0  \n",
       "\n",
       "[295672 rows x 8 columns]"
      ]
     },
     "execution_count": 10,
     "metadata": {},
     "output_type": "execute_result"
    }
   ],
   "source": [
    "for var in FullDataTrainingCols:\n",
    "    FullDataNorm[var] = (FullDataNorm[var] - min(FullDataNorm[var])) / (max(FullDataNorm[var])  -  min(FullDataNorm[var]) )\n",
    "\n",
    "FullDataNorm"
   ]
  },
  {
   "cell_type": "code",
   "execution_count": 12,
   "metadata": {},
   "outputs": [],
   "source": [
    "TrainingData, TestingData = train_test_split(FullDataNorm,test_size=0.1)\n",
    "\n",
    "X_train = TrainingData[FullDataTrainingCols]\n",
    "Y_train = TrainingData[\"isMonteCarlo\"]\n",
    "W_train = TrainingData[\"weight\"]\n",
    "\n",
    "X_test  = TestingData[FullDataTrainingCols]\n",
    "Y_test  = TestingData[\"isMonteCarlo\"]\n",
    "W_test  = TestingData[\"weight\"]\n"
   ]
  },
  {
   "cell_type": "markdown",
   "metadata": {},
   "source": [
    "<h1>\n",
    "Gradient Boosted Decision Tree Classifier\n",
    "</h1>"
   ]
  },
  {
   "cell_type": "code",
   "execution_count": 27,
   "metadata": {},
   "outputs": [
    {
     "data": {
      "image/png": "[encoded data removed]",
      "text/plain": [
       "<Figure size 1000x800 with 1 Axes>"
      ]
     },
     "metadata": {},
     "output_type": "display_data"
    }
   ],
   "source": [
    "#TODO - Implement ROC curve\n",
    "\n",
    "from sklearn.ensemble import GradientBoostingClassifier\n",
    "from sklearn.metrics import roc_auc_score, roc_curve\n",
    "from sklearn.model_selection import train_test_split\n",
    "\n",
    "#TODO - Implement ROC curve\n",
    "\n",
    "plt.figure(figsize=(10, 8))  # Added for plotting\n",
    "\n",
    "clf_sw = GradientBoostingClassifier(subsample=0.3, n_estimators=50).fit(X_train, Y_train)\n",
    "predictionsWithWeights = clf_sw.predict(X_test).flatten()\n",
    "fpr, tpr, thresholds   = roc_curve(Y_test, predictionsWithWeights)\n",
    "\n",
    "plt.plot(fpr,  tpr,  label = \"Sans Weights\")\n",
    "\n",
    "plt.plot([0, 1], [0, 1], \"k--\")  # Added diagonal line for random classifier\n",
    "plt.xlabel(\"False Positive Rate\")  # Added x-axis label\n",
    "plt.ylabel(\"True Positive Rate\")  # Added y-axis label\n",
    "plt.title(\"GBC ROC Curve\")  # Added title\n",
    "plt.legend()  # Added legend\n",
    "plt.show()  # Added show plot\n"
   ]
  },
  {
   "cell_type": "markdown",
   "metadata": {},
   "source": [
    "<h1>\n",
    "Neural Networks\n",
    "</h1>"
   ]
  },
  {
   "cell_type": "code",
   "execution_count": 14,
   "metadata": {},
   "outputs": [],
   "source": [
    "def CreateNNModel():\n",
    "    model = Sequential()\n",
    "    model.add(Dense(12,  input_shape = (6,),  activation=\"relu\"))\n",
    "    model.add(Dense(12, input_shape = (12,),  activation=\"relu\"))\n",
    "    model.add(Dense(1,  input_shape = (12,), activation=\"sigmoid\"))\n",
    "    model.compile(loss=\"binary_crossentropy\", optimizer=\"adam\", metrics=[\"accuracy\"])\n",
    "    return model"
   ]
  },
  {
   "cell_type": "markdown",
   "metadata": {},
   "source": [
    "<h1>\n",
    "Sans Weights\n",
    "</h1>"
   ]
  },
  {
   "cell_type": "code",
   "execution_count": 15,
   "metadata": {},
   "outputs": [
    {
     "name": "stderr",
     "output_type": "stream",
     "text": [
      "/Users/finnjohnonori/Documents/GitHubRepositories/MScProject/HistogramsLHCb/.venv/lib/python3.12/site-packages/keras/src/layers/core/dense.py:87: UserWarning: Do not pass an `input_shape`/`input_dim` argument to a layer. When using Sequential models, prefer using an `Input(shape)` object as the first layer in the model instead.\n",
      "  super().__init__(activity_regularizer=activity_regularizer, **kwargs)\n"
     ]
    },
    {
     "data": {
      "text/html": [
       "<pre style=\"white-space:pre;overflow-x:auto;line-height:normal;font-family:Menlo,'DejaVu Sans Mono',consolas,'Courier New',monospace\"><span style=\"font-weight: bold\">Model: \"sequential\"</span>\n",
       "</pre>\n"
      ],
      "text/plain": [
       "\u001b[1mModel: \"sequential\"\u001b[0m\n"
      ]
     },
     "metadata": {},
     "output_type": "display_data"
    },
    {
     "data": {
      "text/html": [
       "<pre style=\"white-space:pre;overflow-x:auto;line-height:normal;font-family:Menlo,'DejaVu Sans Mono',consolas,'Courier New',monospace\">┏━━━━━━━━━━━━━━━━━━━━━━━━━━━━━━━━━┳━━━━━━━━━━━━━━━━━━━━━━━━┳━━━━━━━━━━━━━━━┓\n",
       "┃<span style=\"font-weight: bold\"> Layer (type)                    </span>┃<span style=\"font-weight: bold\"> Output Shape           </span>┃<span style=\"font-weight: bold\">       Param # </span>┃\n",
       "┡━━━━━━━━━━━━━━━━━━━━━━━━━━━━━━━━━╇━━━━━━━━━━━━━━━━━━━━━━━━╇━━━━━━━━━━━━━━━┩\n",
       "│ dense (<span style=\"color: #0087ff; text-decoration-color: #0087ff\">Dense</span>)                   │ (<span style=\"color: #00d7ff; text-decoration-color: #00d7ff\">None</span>, <span style=\"color: #00af00; text-decoration-color: #00af00\">12</span>)             │            <span style=\"color: #00af00; text-decoration-color: #00af00\">84</span> │\n",
       "├─────────────────────────────────┼────────────────────────┼───────────────┤\n",
       "│ dense_1 (<span style=\"color: #0087ff; text-decoration-color: #0087ff\">Dense</span>)                 │ (<span style=\"color: #00d7ff; text-decoration-color: #00d7ff\">None</span>, <span style=\"color: #00af00; text-decoration-color: #00af00\">12</span>)             │           <span style=\"color: #00af00; text-decoration-color: #00af00\">156</span> │\n",
       "├─────────────────────────────────┼────────────────────────┼───────────────┤\n",
       "│ dense_2 (<span style=\"color: #0087ff; text-decoration-color: #0087ff\">Dense</span>)                 │ (<span style=\"color: #00d7ff; text-decoration-color: #00d7ff\">None</span>, <span style=\"color: #00af00; text-decoration-color: #00af00\">1</span>)              │            <span style=\"color: #00af00; text-decoration-color: #00af00\">13</span> │\n",
       "└─────────────────────────────────┴────────────────────────┴───────────────┘\n",
       "</pre>\n"
      ],
      "text/plain": [
       "┏━━━━━━━━━━━━━━━━━━━━━━━━━━━━━━━━━┳━━━━━━━━━━━━━━━━━━━━━━━━┳━━━━━━━━━━━━━━━┓\n",
       "┃\u001b[1m \u001b[0m\u001b[1mLayer (type)                   \u001b[0m\u001b[1m \u001b[0m┃\u001b[1m \u001b[0m\u001b[1mOutput Shape          \u001b[0m\u001b[1m \u001b[0m┃\u001b[1m \u001b[0m\u001b[1m      Param #\u001b[0m\u001b[1m \u001b[0m┃\n",
       "┡━━━━━━━━━━━━━━━━━━━━━━━━━━━━━━━━━╇━━━━━━━━━━━━━━━━━━━━━━━━╇━━━━━━━━━━━━━━━┩\n",
       "│ dense (\u001b[38;5;33mDense\u001b[0m)                   │ (\u001b[38;5;45mNone\u001b[0m, \u001b[38;5;34m12\u001b[0m)             │            \u001b[38;5;34m84\u001b[0m │\n",
       "├─────────────────────────────────┼────────────────────────┼───────────────┤\n",
       "│ dense_1 (\u001b[38;5;33mDense\u001b[0m)                 │ (\u001b[38;5;45mNone\u001b[0m, \u001b[38;5;34m12\u001b[0m)             │           \u001b[38;5;34m156\u001b[0m │\n",
       "├─────────────────────────────────┼────────────────────────┼───────────────┤\n",
       "│ dense_2 (\u001b[38;5;33mDense\u001b[0m)                 │ (\u001b[38;5;45mNone\u001b[0m, \u001b[38;5;34m1\u001b[0m)              │            \u001b[38;5;34m13\u001b[0m │\n",
       "└─────────────────────────────────┴────────────────────────┴───────────────┘\n"
      ]
     },
     "metadata": {},
     "output_type": "display_data"
    },
    {
     "data": {
      "text/html": [
       "<pre style=\"white-space:pre;overflow-x:auto;line-height:normal;font-family:Menlo,'DejaVu Sans Mono',consolas,'Courier New',monospace\"><span style=\"font-weight: bold\"> Total params: </span><span style=\"color: #00af00; text-decoration-color: #00af00\">253</span> (1012.00 B)\n",
       "</pre>\n"
      ],
      "text/plain": [
       "\u001b[1m Total params: \u001b[0m\u001b[38;5;34m253\u001b[0m (1012.00 B)\n"
      ]
     },
     "metadata": {},
     "output_type": "display_data"
    },
    {
     "data": {
      "text/html": [
       "<pre style=\"white-space:pre;overflow-x:auto;line-height:normal;font-family:Menlo,'DejaVu Sans Mono',consolas,'Courier New',monospace\"><span style=\"font-weight: bold\"> Trainable params: </span><span style=\"color: #00af00; text-decoration-color: #00af00\">253</span> (1012.00 B)\n",
       "</pre>\n"
      ],
      "text/plain": [
       "\u001b[1m Trainable params: \u001b[0m\u001b[38;5;34m253\u001b[0m (1012.00 B)\n"
      ]
     },
     "metadata": {},
     "output_type": "display_data"
    },
    {
     "data": {
      "text/html": [
       "<pre style=\"white-space:pre;overflow-x:auto;line-height:normal;font-family:Menlo,'DejaVu Sans Mono',consolas,'Courier New',monospace\"><span style=\"font-weight: bold\"> Non-trainable params: </span><span style=\"color: #00af00; text-decoration-color: #00af00\">0</span> (0.00 B)\n",
       "</pre>\n"
      ],
      "text/plain": [
       "\u001b[1m Non-trainable params: \u001b[0m\u001b[38;5;34m0\u001b[0m (0.00 B)\n"
      ]
     },
     "metadata": {},
     "output_type": "display_data"
    }
   ],
   "source": [
    "NNmodelSansWeights = CreateNNModel()\n",
    "NNmodelSansWeights.summary()"
   ]
  },
  {
   "cell_type": "code",
   "execution_count": 16,
   "metadata": {},
   "outputs": [
    {
     "name": "stdout",
     "output_type": "stream",
     "text": [
      "\u001b[1m924/924\u001b[0m \u001b[32m━━━━━━━━━━━━━━━━━━━━\u001b[0m\u001b[37m\u001b[0m \u001b[1m2s\u001b[0m 2ms/step\n"
     ]
    },
    {
     "data": {
      "text/plain": [
       "array([[14710,    71],\n",
       "       [14750,    37]])"
      ]
     },
     "execution_count": 16,
     "metadata": {},
     "output_type": "execute_result"
    }
   ],
   "source": [
    "predictions = NNmodelSansWeights.predict(X_test).flatten()\n",
    "cm = confusion_matrix(y_pred=np.round(predictions), y_true=Y_test)\n",
    "cm"
   ]
  },
  {
   "cell_type": "code",
   "execution_count": 17,
   "metadata": {},
   "outputs": [
    {
     "name": "stdout",
     "output_type": "stream",
     "text": [
      "Epoch 1/500\n",
      "1331/1331 - 5s - 4ms/step - accuracy: 0.6559 - loss: 0.6204 - val_accuracy: 0.6882 - val_loss: 0.5935\n",
      "Epoch 2/500\n",
      "1331/1331 - 3s - 2ms/step - accuracy: 0.6862 - loss: 0.5889 - val_accuracy: 0.6884 - val_loss: 0.5868\n",
      "Epoch 3/500\n",
      "1331/1331 - 3s - 2ms/step - accuracy: 0.6902 - loss: 0.5832 - val_accuracy: 0.6923 - val_loss: 0.5806\n",
      "Epoch 4/500\n",
      "1331/1331 - 7s - 5ms/step - accuracy: 0.6940 - loss: 0.5794 - val_accuracy: 0.6952 - val_loss: 0.5794\n",
      "Epoch 5/500\n",
      "1331/1331 - 4s - 3ms/step - accuracy: 0.6969 - loss: 0.5772 - val_accuracy: 0.6972 - val_loss: 0.5769\n",
      "Epoch 6/500\n",
      "1331/1331 - 3s - 2ms/step - accuracy: 0.6986 - loss: 0.5756 - val_accuracy: 0.6981 - val_loss: 0.5751\n",
      "Epoch 7/500\n",
      "1331/1331 - 3s - 2ms/step - accuracy: 0.6990 - loss: 0.5747 - val_accuracy: 0.7002 - val_loss: 0.5748\n",
      "Epoch 8/500\n",
      "1331/1331 - 3s - 2ms/step - accuracy: 0.6995 - loss: 0.5738 - val_accuracy: 0.7008 - val_loss: 0.5734\n",
      "Epoch 9/500\n",
      "1331/1331 - 2s - 2ms/step - accuracy: 0.7004 - loss: 0.5731 - val_accuracy: 0.7010 - val_loss: 0.5730\n",
      "Epoch 10/500\n",
      "1331/1331 - 2s - 2ms/step - accuracy: 0.7004 - loss: 0.5727 - val_accuracy: 0.7011 - val_loss: 0.5732\n",
      "Epoch 11/500\n",
      "1331/1331 - 2s - 2ms/step - accuracy: 0.7005 - loss: 0.5723 - val_accuracy: 0.7000 - val_loss: 0.5728\n",
      "Epoch 12/500\n",
      "1331/1331 - 2s - 2ms/step - accuracy: 0.7010 - loss: 0.5719 - val_accuracy: 0.7003 - val_loss: 0.5722\n",
      "Epoch 13/500\n",
      "1331/1331 - 2s - 2ms/step - accuracy: 0.7015 - loss: 0.5715 - val_accuracy: 0.7007 - val_loss: 0.5715\n",
      "Epoch 14/500\n",
      "1331/1331 - 2s - 2ms/step - accuracy: 0.7015 - loss: 0.5712 - val_accuracy: 0.6998 - val_loss: 0.5730\n",
      "Epoch 15/500\n",
      "1331/1331 - 3s - 2ms/step - accuracy: 0.7015 - loss: 0.5709 - val_accuracy: 0.7027 - val_loss: 0.5713\n",
      "Epoch 16/500\n",
      "1331/1331 - 2s - 2ms/step - accuracy: 0.7025 - loss: 0.5705 - val_accuracy: 0.7000 - val_loss: 0.5726\n",
      "Epoch 17/500\n",
      "1331/1331 - 2s - 2ms/step - accuracy: 0.7026 - loss: 0.5700 - val_accuracy: 0.7023 - val_loss: 0.5717\n",
      "Epoch 18/500\n",
      "1331/1331 - 2s - 2ms/step - accuracy: 0.7028 - loss: 0.5697 - val_accuracy: 0.7036 - val_loss: 0.5700\n",
      "Epoch 19/500\n",
      "1331/1331 - 2s - 2ms/step - accuracy: 0.7026 - loss: 0.5694 - val_accuracy: 0.7037 - val_loss: 0.5696\n",
      "Epoch 20/500\n",
      "1331/1331 - 2s - 2ms/step - accuracy: 0.7031 - loss: 0.5692 - val_accuracy: 0.7022 - val_loss: 0.5708\n",
      "Epoch 21/500\n",
      "1331/1331 - 3s - 2ms/step - accuracy: 0.7030 - loss: 0.5690 - val_accuracy: 0.7027 - val_loss: 0.5703\n",
      "Epoch 22/500\n",
      "1331/1331 - 2s - 2ms/step - accuracy: 0.7030 - loss: 0.5689 - val_accuracy: 0.7031 - val_loss: 0.5699\n",
      "Epoch 23/500\n",
      "1331/1331 - 2s - 2ms/step - accuracy: 0.7031 - loss: 0.5689 - val_accuracy: 0.7046 - val_loss: 0.5692\n",
      "Epoch 24/500\n",
      "1331/1331 - 2s - 2ms/step - accuracy: 0.7031 - loss: 0.5687 - val_accuracy: 0.7039 - val_loss: 0.5692\n",
      "Epoch 25/500\n",
      "1331/1331 - 2s - 2ms/step - accuracy: 0.7037 - loss: 0.5686 - val_accuracy: 0.7043 - val_loss: 0.5690\n",
      "Epoch 26/500\n",
      "1331/1331 - 3s - 2ms/step - accuracy: 0.7037 - loss: 0.5684 - val_accuracy: 0.7032 - val_loss: 0.5694\n",
      "Epoch 27/500\n",
      "1331/1331 - 2s - 2ms/step - accuracy: 0.7033 - loss: 0.5684 - val_accuracy: 0.7042 - val_loss: 0.5690\n",
      "Epoch 28/500\n",
      "1331/1331 - 2s - 2ms/step - accuracy: 0.7037 - loss: 0.5683 - val_accuracy: 0.7041 - val_loss: 0.5695\n",
      "Epoch 29/500\n",
      "1331/1331 - 2s - 2ms/step - accuracy: 0.7038 - loss: 0.5681 - val_accuracy: 0.7039 - val_loss: 0.5693\n",
      "Epoch 30/500\n",
      "1331/1331 - 2s - 2ms/step - accuracy: 0.7039 - loss: 0.5682 - val_accuracy: 0.7052 - val_loss: 0.5683\n",
      "Epoch 31/500\n",
      "1331/1331 - 2s - 2ms/step - accuracy: 0.7040 - loss: 0.5681 - val_accuracy: 0.7042 - val_loss: 0.5686\n",
      "Epoch 32/500\n",
      "1331/1331 - 2s - 2ms/step - accuracy: 0.7038 - loss: 0.5682 - val_accuracy: 0.7032 - val_loss: 0.5697\n",
      "Epoch 33/500\n",
      "1331/1331 - 2s - 2ms/step - accuracy: 0.7041 - loss: 0.5680 - val_accuracy: 0.7042 - val_loss: 0.5684\n",
      "Epoch 34/500\n",
      "1331/1331 - 2s - 2ms/step - accuracy: 0.7039 - loss: 0.5680 - val_accuracy: 0.7050 - val_loss: 0.5678\n",
      "Epoch 35/500\n",
      "1331/1331 - 2s - 2ms/step - accuracy: 0.7039 - loss: 0.5681 - val_accuracy: 0.7045 - val_loss: 0.5685\n",
      "Epoch 36/500\n",
      "1331/1331 - 3s - 2ms/step - accuracy: 0.7041 - loss: 0.5679 - val_accuracy: 0.7042 - val_loss: 0.5686\n",
      "Epoch 37/500\n",
      "1331/1331 - 3s - 2ms/step - accuracy: 0.7039 - loss: 0.5678 - val_accuracy: 0.7044 - val_loss: 0.5677\n",
      "Epoch 38/500\n",
      "1331/1331 - 2s - 2ms/step - accuracy: 0.7036 - loss: 0.5679 - val_accuracy: 0.7041 - val_loss: 0.5683\n",
      "Epoch 39/500\n",
      "1331/1331 - 2s - 2ms/step - accuracy: 0.7038 - loss: 0.5676 - val_accuracy: 0.7058 - val_loss: 0.5675\n",
      "Epoch 40/500\n",
      "1331/1331 - 2s - 2ms/step - accuracy: 0.7043 - loss: 0.5676 - val_accuracy: 0.7045 - val_loss: 0.5684\n",
      "Epoch 41/500\n",
      "1331/1331 - 2s - 2ms/step - accuracy: 0.7041 - loss: 0.5677 - val_accuracy: 0.7053 - val_loss: 0.5681\n",
      "Epoch 42/500\n",
      "1331/1331 - 4s - 3ms/step - accuracy: 0.7034 - loss: 0.5675 - val_accuracy: 0.7038 - val_loss: 0.5678\n",
      "Epoch 43/500\n",
      "1331/1331 - 3s - 3ms/step - accuracy: 0.7043 - loss: 0.5674 - val_accuracy: 0.7052 - val_loss: 0.5676\n",
      "Epoch 44/500\n",
      "1331/1331 - 3s - 2ms/step - accuracy: 0.7039 - loss: 0.5674 - val_accuracy: 0.7038 - val_loss: 0.5681\n"
     ]
    }
   ],
   "source": [
    "EarlyStoppingCallback = EarlyStopping(monitor=\"val_loss\", patience=5)\n",
    "history = NNmodelSansWeights.fit(X_train, Y_train, validation_data=(X_test, Y_test),  verbose=2, batch_size=200, epochs=500, callbacks=[EarlyStoppingCallback])"
   ]
  },
  {
   "cell_type": "code",
   "execution_count": 18,
   "metadata": {},
   "outputs": [
    {
     "name": "stdout",
     "output_type": "stream",
     "text": [
      "\u001b[1m 32/924\u001b[0m \u001b[37m━━━━━━━━━━━━━━━━━━━━\u001b[0m \u001b[1m2s\u001b[0m 3ms/step - accuracy: 0.6976 - loss: 0.5753"
     ]
    },
    {
     "name": "stdout",
     "output_type": "stream",
     "text": [
      "\u001b[1m924/924\u001b[0m \u001b[32m━━━━━━━━━━━━━━━━━━━━\u001b[0m\u001b[37m\u001b[0m \u001b[1m4s\u001b[0m 4ms/step - accuracy: 0.7061 - loss: 0.5662\n",
      "[0.5680543184280396, 0.7038013935089111]\n"
     ]
    }
   ],
   "source": [
    "accuracy = NNmodelSansWeights.evaluate(X_test, Y_test)\n",
    "print(accuracy)"
   ]
  },
  {
   "cell_type": "code",
   "execution_count": 19,
   "metadata": {},
   "outputs": [
    {
     "name": "stdout",
     "output_type": "stream",
     "text": [
      "\u001b[1m924/924\u001b[0m \u001b[32m━━━━━━━━━━━━━━━━━━━━\u001b[0m\u001b[37m\u001b[0m \u001b[1m2s\u001b[0m 2ms/step\n"
     ]
    },
    {
     "data": {
      "text/plain": [
       "array([[ 9417,  5364],\n",
       "       [ 3394, 11393]])"
      ]
     },
     "execution_count": 19,
     "metadata": {},
     "output_type": "execute_result"
    }
   ],
   "source": [
    "predictions = NNmodelSansWeights.predict(X_test).flatten()\n",
    "cm = confusion_matrix(y_pred=np.round(predictions), y_true=Y_test)\n",
    "cm"
   ]
  },
  {
   "cell_type": "markdown",
   "metadata": {},
   "source": [
    "<h1>\n",
    "With Weights\n",
    "</h1>"
   ]
  },
  {
   "cell_type": "code",
   "execution_count": 20,
   "metadata": {},
   "outputs": [
    {
     "name": "stderr",
     "output_type": "stream",
     "text": [
      "/Users/finnjohnonori/Documents/GitHubRepositories/MScProject/HistogramsLHCb/.venv/lib/python3.12/site-packages/keras/src/layers/core/dense.py:87: UserWarning: Do not pass an `input_shape`/`input_dim` argument to a layer. When using Sequential models, prefer using an `Input(shape)` object as the first layer in the model instead.\n",
      "  super().__init__(activity_regularizer=activity_regularizer, **kwargs)\n"
     ]
    },
    {
     "data": {
      "text/html": [
       "<pre style=\"white-space:pre;overflow-x:auto;line-height:normal;font-family:Menlo,'DejaVu Sans Mono',consolas,'Courier New',monospace\"><span style=\"font-weight: bold\">Model: \"sequential_1\"</span>\n",
       "</pre>\n"
      ],
      "text/plain": [
       "\u001b[1mModel: \"sequential_1\"\u001b[0m\n"
      ]
     },
     "metadata": {},
     "output_type": "display_data"
    },
    {
     "data": {
      "text/html": [
       "<pre style=\"white-space:pre;overflow-x:auto;line-height:normal;font-family:Menlo,'DejaVu Sans Mono',consolas,'Courier New',monospace\">┏━━━━━━━━━━━━━━━━━━━━━━━━━━━━━━━━━┳━━━━━━━━━━━━━━━━━━━━━━━━┳━━━━━━━━━━━━━━━┓\n",
       "┃<span style=\"font-weight: bold\"> Layer (type)                    </span>┃<span style=\"font-weight: bold\"> Output Shape           </span>┃<span style=\"font-weight: bold\">       Param # </span>┃\n",
       "┡━━━━━━━━━━━━━━━━━━━━━━━━━━━━━━━━━╇━━━━━━━━━━━━━━━━━━━━━━━━╇━━━━━━━━━━━━━━━┩\n",
       "│ dense_3 (<span style=\"color: #0087ff; text-decoration-color: #0087ff\">Dense</span>)                 │ (<span style=\"color: #00d7ff; text-decoration-color: #00d7ff\">None</span>, <span style=\"color: #00af00; text-decoration-color: #00af00\">12</span>)             │            <span style=\"color: #00af00; text-decoration-color: #00af00\">84</span> │\n",
       "├─────────────────────────────────┼────────────────────────┼───────────────┤\n",
       "│ dense_4 (<span style=\"color: #0087ff; text-decoration-color: #0087ff\">Dense</span>)                 │ (<span style=\"color: #00d7ff; text-decoration-color: #00d7ff\">None</span>, <span style=\"color: #00af00; text-decoration-color: #00af00\">12</span>)             │           <span style=\"color: #00af00; text-decoration-color: #00af00\">156</span> │\n",
       "├─────────────────────────────────┼────────────────────────┼───────────────┤\n",
       "│ dense_5 (<span style=\"color: #0087ff; text-decoration-color: #0087ff\">Dense</span>)                 │ (<span style=\"color: #00d7ff; text-decoration-color: #00d7ff\">None</span>, <span style=\"color: #00af00; text-decoration-color: #00af00\">1</span>)              │            <span style=\"color: #00af00; text-decoration-color: #00af00\">13</span> │\n",
       "└─────────────────────────────────┴────────────────────────┴───────────────┘\n",
       "</pre>\n"
      ],
      "text/plain": [
       "┏━━━━━━━━━━━━━━━━━━━━━━━━━━━━━━━━━┳━━━━━━━━━━━━━━━━━━━━━━━━┳━━━━━━━━━━━━━━━┓\n",
       "┃\u001b[1m \u001b[0m\u001b[1mLayer (type)                   \u001b[0m\u001b[1m \u001b[0m┃\u001b[1m \u001b[0m\u001b[1mOutput Shape          \u001b[0m\u001b[1m \u001b[0m┃\u001b[1m \u001b[0m\u001b[1m      Param #\u001b[0m\u001b[1m \u001b[0m┃\n",
       "┡━━━━━━━━━━━━━━━━━━━━━━━━━━━━━━━━━╇━━━━━━━━━━━━━━━━━━━━━━━━╇━━━━━━━━━━━━━━━┩\n",
       "│ dense_3 (\u001b[38;5;33mDense\u001b[0m)                 │ (\u001b[38;5;45mNone\u001b[0m, \u001b[38;5;34m12\u001b[0m)             │            \u001b[38;5;34m84\u001b[0m │\n",
       "├─────────────────────────────────┼────────────────────────┼───────────────┤\n",
       "│ dense_4 (\u001b[38;5;33mDense\u001b[0m)                 │ (\u001b[38;5;45mNone\u001b[0m, \u001b[38;5;34m12\u001b[0m)             │           \u001b[38;5;34m156\u001b[0m │\n",
       "├─────────────────────────────────┼────────────────────────┼───────────────┤\n",
       "│ dense_5 (\u001b[38;5;33mDense\u001b[0m)                 │ (\u001b[38;5;45mNone\u001b[0m, \u001b[38;5;34m1\u001b[0m)              │            \u001b[38;5;34m13\u001b[0m │\n",
       "└─────────────────────────────────┴────────────────────────┴───────────────┘\n"
      ]
     },
     "metadata": {},
     "output_type": "display_data"
    },
    {
     "data": {
      "text/html": [
       "<pre style=\"white-space:pre;overflow-x:auto;line-height:normal;font-family:Menlo,'DejaVu Sans Mono',consolas,'Courier New',monospace\"><span style=\"font-weight: bold\"> Total params: </span><span style=\"color: #00af00; text-decoration-color: #00af00\">253</span> (1012.00 B)\n",
       "</pre>\n"
      ],
      "text/plain": [
       "\u001b[1m Total params: \u001b[0m\u001b[38;5;34m253\u001b[0m (1012.00 B)\n"
      ]
     },
     "metadata": {},
     "output_type": "display_data"
    },
    {
     "data": {
      "text/html": [
       "<pre style=\"white-space:pre;overflow-x:auto;line-height:normal;font-family:Menlo,'DejaVu Sans Mono',consolas,'Courier New',monospace\"><span style=\"font-weight: bold\"> Trainable params: </span><span style=\"color: #00af00; text-decoration-color: #00af00\">253</span> (1012.00 B)\n",
       "</pre>\n"
      ],
      "text/plain": [
       "\u001b[1m Trainable params: \u001b[0m\u001b[38;5;34m253\u001b[0m (1012.00 B)\n"
      ]
     },
     "metadata": {},
     "output_type": "display_data"
    },
    {
     "data": {
      "text/html": [
       "<pre style=\"white-space:pre;overflow-x:auto;line-height:normal;font-family:Menlo,'DejaVu Sans Mono',consolas,'Courier New',monospace\"><span style=\"font-weight: bold\"> Non-trainable params: </span><span style=\"color: #00af00; text-decoration-color: #00af00\">0</span> (0.00 B)\n",
       "</pre>\n"
      ],
      "text/plain": [
       "\u001b[1m Non-trainable params: \u001b[0m\u001b[38;5;34m0\u001b[0m (0.00 B)\n"
      ]
     },
     "metadata": {},
     "output_type": "display_data"
    }
   ],
   "source": [
    "NNmodelWithWeights = CreateNNModel()\n",
    "NNmodelWithWeights.summary()"
   ]
  },
  {
   "cell_type": "code",
   "execution_count": 21,
   "metadata": {},
   "outputs": [
    {
     "name": "stdout",
     "output_type": "stream",
     "text": [
      "\u001b[1m924/924\u001b[0m \u001b[32m━━━━━━━━━━━━━━━━━━━━\u001b[0m\u001b[37m\u001b[0m \u001b[1m2s\u001b[0m 2ms/step\n"
     ]
    },
    {
     "data": {
      "text/plain": [
       "array([[14781,     0],\n",
       "       [14786,     1]])"
      ]
     },
     "execution_count": 21,
     "metadata": {},
     "output_type": "execute_result"
    }
   ],
   "source": [
    "predictions = NNmodelWithWeights.predict(X_test).flatten()\n",
    "cm = confusion_matrix(y_pred=np.round(predictions), y_true=Y_test)\n",
    "cm"
   ]
  },
  {
   "cell_type": "code",
   "execution_count": 22,
   "metadata": {},
   "outputs": [
    {
     "name": "stdout",
     "output_type": "stream",
     "text": [
      "Epoch 1/500\n",
      "1331/1331 - 6s - 4ms/step - accuracy: 0.5005 - loss: 0.4045 - val_accuracy: 0.5001 - val_loss: 0.7940\n",
      "Epoch 2/500\n",
      "1331/1331 - 3s - 2ms/step - accuracy: 0.5000 - loss: 0.3978 - val_accuracy: 0.5001 - val_loss: 0.8098\n",
      "Epoch 3/500\n",
      "1331/1331 - 3s - 2ms/step - accuracy: 0.5004 - loss: 0.3960 - val_accuracy: 0.5007 - val_loss: 0.8124\n",
      "Epoch 4/500\n",
      "1331/1331 - 3s - 2ms/step - accuracy: 0.5018 - loss: 0.3954 - val_accuracy: 0.5018 - val_loss: 0.8224\n",
      "Epoch 5/500\n",
      "1331/1331 - 3s - 2ms/step - accuracy: 0.5033 - loss: 0.3948 - val_accuracy: 0.5113 - val_loss: 0.7641\n",
      "Epoch 6/500\n",
      "1331/1331 - 3s - 2ms/step - accuracy: 0.5057 - loss: 0.3943 - val_accuracy: 0.5048 - val_loss: 0.8156\n",
      "Epoch 7/500\n",
      "1331/1331 - 3s - 2ms/step - accuracy: 0.5082 - loss: 0.3938 - val_accuracy: 0.5079 - val_loss: 0.8009\n",
      "Epoch 8/500\n",
      "1331/1331 - 3s - 2ms/step - accuracy: 0.5101 - loss: 0.3935 - val_accuracy: 0.5079 - val_loss: 0.8151\n",
      "Epoch 9/500\n",
      "1331/1331 - 3s - 2ms/step - accuracy: 0.5129 - loss: 0.3931 - val_accuracy: 0.5133 - val_loss: 0.8023\n",
      "Epoch 10/500\n",
      "1331/1331 - 3s - 2ms/step - accuracy: 0.5160 - loss: 0.3928 - val_accuracy: 0.5139 - val_loss: 0.8106\n"
     ]
    }
   ],
   "source": [
    "EarlyStoppingCallback = EarlyStopping(monitor=\"val_loss\", patience=5)\n",
    "history = NNmodelWithWeights.fit(X_train, Y_train, validation_data=(X_test, Y_test), sample_weight = W_train, verbose=2, batch_size=200, epochs=500, callbacks=[EarlyStoppingCallback])"
   ]
  },
  {
   "cell_type": "code",
   "execution_count": 23,
   "metadata": {},
   "outputs": [
    {
     "name": "stdout",
     "output_type": "stream",
     "text": [
      "\u001b[1m924/924\u001b[0m \u001b[32m━━━━━━━━━━━━━━━━━━━━\u001b[0m\u001b[37m\u001b[0m \u001b[1m3s\u001b[0m 3ms/step - accuracy: 0.5136 - loss: 0.8116\n",
      "[0.8105741739273071, 0.5139001607894897]\n"
     ]
    }
   ],
   "source": [
    "accuracy = NNmodelWithWeights.evaluate(X_test, Y_test)\n",
    "print(accuracy)"
   ]
  },
  {
   "cell_type": "code",
   "execution_count": 24,
   "metadata": {},
   "outputs": [
    {
     "name": "stdout",
     "output_type": "stream",
     "text": [
      "\u001b[1m924/924\u001b[0m \u001b[32m━━━━━━━━━━━━━━━━━━━━\u001b[0m\u001b[37m\u001b[0m \u001b[1m2s\u001b[0m 2ms/step\n"
     ]
    },
    {
     "data": {
      "text/plain": [
       "array([[  413, 14368],\n",
       "       [    5, 14782]])"
      ]
     },
     "execution_count": 24,
     "metadata": {},
     "output_type": "execute_result"
    }
   ],
   "source": [
    "predictions = NNmodelWithWeights.predict(X_test).flatten()\n",
    "cm = confusion_matrix(y_pred=np.round(predictions), y_true=Y_test)\n",
    "cm"
   ]
  },
  {
   "cell_type": "code",
   "execution_count": 25,
   "metadata": {},
   "outputs": [
    {
     "name": "stdout",
     "output_type": "stream",
     "text": [
      "\u001b[1m924/924\u001b[0m \u001b[32m━━━━━━━━━━━━━━━━━━━━\u001b[0m\u001b[37m\u001b[0m \u001b[1m2s\u001b[0m 3ms/step\n",
      "\u001b[1m924/924\u001b[0m \u001b[32m━━━━━━━━━━━━━━━━━━━━\u001b[0m\u001b[37m\u001b[0m \u001b[1m2s\u001b[0m 2ms/step\n"
     ]
    },
    {
     "data": {
      "image/png": "[encoded data removed]",
      "text/plain": [
       "<Figure size 1000x800 with 1 Axes>"
      ]
     },
     "metadata": {},
     "output_type": "display_data"
    }
   ],
   "source": [
    "#TODO - Implement ROC curve\n",
    "\n",
    "plt.figure(figsize=(10, 8))  # Added for plotting\n",
    "\n",
    "predictionsWithWeights = NNmodelWithWeights.predict(X_test).flatten()\n",
    "predictionsSansWeights = NNmodelSansWeights.predict(X_test).flatten()\n",
    "\n",
    "\n",
    "fpr, tpr, thresholds    = roc_curve(Y_test, predictionsSansWeights)\n",
    "fprw, tprw, thresholdsw = roc_curve(Y_test, predictionsWithWeights, sample_weight=W_test)\n",
    "\n",
    "plt.plot(fpr,  tpr,  label = \"Sans Weights\")\n",
    "plt.plot(fprw, tprw, label = \"With Weights\")\n",
    "\n",
    "plt.plot([0, 1], [0, 1], \"k--\")  # Added diagonal line for random classifier\n",
    "plt.xlabel(\"False Positive Rate\")  # Added x-axis label\n",
    "plt.ylabel(\"True Positive Rate\")  # Added y-axis label\n",
    "plt.title(\"NN ROC Curve\")  # Added title\n",
    "plt.legend()  # Added legend\n",
    "plt.show()  # Added show plot"
   ]
  }
 ],
 "metadata": {
  "kernelspec": {
   "display_name": ".venv",
   "language": "python",
   "name": "python3"
  },
  "language_info": {
   "codemirror_mode": {
    "name": "ipython",
    "version": 3
   },
   "file_extension": ".py",
   "mimetype": "text/x-python",
   "name": "python",
   "nbconvert_exporter": "python",
   "pygments_lexer": "ipython3",
   "version": "3.12.4"
  }
 },
 "nbformat": 4,
 "nbformat_minor": 2
}
